{
 "cells": [
  {
   "cell_type": "code",
   "execution_count": 93,
   "metadata": {},
   "outputs": [
    {
     "name": "stdout",
     "output_type": "stream",
     "text": [
      "[8, 20, 25, 28, 29, 35, 26, 19, 10]\n",
      "[9.838, 9.883, 9.927999999999999, 9.972999999999999, 10.017999999999999, 10.062999999999999, 10.107999999999999, 10.152999999999999, 10.197999999999999]\n"
     ]
    },
    {
     "data": {
      "image/png": "[encoded data removed]",
      "text/plain": [
       "<Figure size 432x288 with 1 Axes>"
      ]
     },
     "metadata": {
      "needs_background": "light"
     },
     "output_type": "display_data"
    }
   ],
   "source": [
    "import math\n",
    "import matplotlib.pyplot as plt\n",
    "import numpy as np\n",
    "\n",
    "\n",
    "array = [9.912,9.884,10.043,10.108,9.935,10.009,9.891,9.986,9.92,10.051,\n",
    "10.068,9.932,9.95,9.869,9.994,9.847,10.025,10.023,10.005,9.86,\n",
    "9.827,10.055,10.008,10.104,10.106,9.967,9.958,10.066,10.127,9.957,\n",
    "10.015,10.002,9.874,10.018,9.859,10.138,10.094,9.809,9.934,10.076,\n",
    "9.979,9.928,10.06,9.937,10.037,9.972,9.915,10.114,10.089,10.05,\n",
    "9.857,9.966,10.012,10.137,9.932,10.043,10.147,9.898,9.976,9.897,\n",
    "9.974,10.079,9.793,10.008,10.163,9.822,9.958,10.089,10.118,10.105,\n",
    "10.04,9.922,10.051,9.853,9.892,10.029,10.195,10.016,9.835,9.993,\n",
    "9.906,10.08,9.919,10.021,10.006,10.183,9.873,10.096,10.047,10.063,\n",
    "10.048,9.888,10.099,9.96,10.039,9.954,10.122,9.884,10.134,9.961,\n",
    "9.989,10.044,9.997,10.053,9.832,10.074,9.971,10.157,9.904,10.054,\n",
    "9.84,9.969,9.87,9.945,9.997,9.905,9.964,10.013,10.168,10.179,\n",
    "10.062,10.033,10.139,10.032,9.981,9.99,10.083,9.801,10.084,9.926,\n",
    "9.992,9.878,9.939,10.07,9.916,9.843,9.878,10.068,9.943,9.915,\n",
    "10.097,9.977,10.024,9.856,10.101,10.177,10.057,9.968,10.142,10.159,\n",
    "9.901,10.129,10.061,10.127,9.99,9.931,9.976,10.187,9.864,9.903,\n",
    "10.028,10.015,9.908,10.019,10.155,10.122,10.134,9.945,10.109,9.984,\n",
    "10.117,9.825,10.082,9.881,10.122,10.051,9.872,10.098,10.074,9.9493,\n",
    "9.866,10.058,10.116,10.033,9.845,10.072,10.019,10.004,9.884,10.027,\n",
    "9.982,9.886,9.928,10.049,9.893,9.949,10.095,9.896,10.036,9.859]\n",
    "\n",
    "array.sort()\n",
    "minValue = array[0]\n",
    "maxValue = array[len(array)-1]\n",
    "R = maxValue - minValue\n",
    "H = round(R/9, 3)\n",
    "counts = [0] * 9\n",
    "counter = 0;\n",
    "value = [0]*9\n",
    "for i in range(len(array)):\n",
    "    value[counter] = minValue+(counter+1)*H\n",
    "    if array[i] > value[counter]:\n",
    "        counter += 1\n",
    "    counts[counter]+=1\n",
    "print(counts)\n",
    "print(value)\n",
    "nums = np.arange(9)\n",
    "plt.bar(nums, counts)\n",
    "plt.xticks(nums+0.4,value)\n",
    "plt.show()\n",
    "\n"
   ]
  },
  {
   "cell_type": "code",
   "execution_count": null,
   "metadata": {},
   "outputs": [],
   "source": []
  },
  {
   "cell_type": "code",
   "execution_count": null,
   "metadata": {},
   "outputs": [],
   "source": []
  }
 ],
 "metadata": {
  "kernelspec": {
   "display_name": "Python 2",
   "language": "python",
   "name": "python2"
  },
  "language_info": {
   "codemirror_mode": {
    "name": "ipython",
    "version": 2
   },
   "file_extension": ".py",
   "mimetype": "text/x-python",
   "name": "python",
   "nbconvert_exporter": "python",
   "pygments_lexer": "ipython2",
   "version": "2.7.16"
  }
 },
 "nbformat": 4,
 "nbformat_minor": 2
}
