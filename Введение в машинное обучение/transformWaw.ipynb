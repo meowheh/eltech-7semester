{
 "metadata": {
  "language_info": {
   "codemirror_mode": {
    "name": "ipython",
    "version": 3
   },
   "file_extension": ".py",
   "mimetype": "text/x-python",
   "name": "python",
   "nbconvert_exporter": "python",
   "pygments_lexer": "ipython3",
   "version": "3.8.3-final"
  },
  "orig_nbformat": 2,
  "kernelspec": {
   "name": "python3",
   "display_name": "Python 3"
  }
 },
 "nbformat": 4,
 "nbformat_minor": 2,
 "cells": [
  {
   "cell_type": "code",
   "execution_count": 5,
   "metadata": {},
   "outputs": [],
   "source": [
    "import librosa\n",
    "import pandas as pd\n",
    "import numpy as np\n",
    "import matplotlib.pyplot as plt\n",
    "%matplotlib inline\n",
    "import os\n",
    "from PIL import Image\n",
    "import pathlib\n",
    "import csv\n",
    "\n",
    "from sklearn.model_selection import train_test_split\n",
    "from sklearn.preprocessing import LabelEncoder, StandardScaler\n",
    "import warnings\n",
    "warnings.filterwarnings('ignore')\n",
    "#Заголовок csv файла \n",
    "header = 'chroma_stft rmse spectral_centroid spectral_bandwidth rolloff zero_crossing_rate'\n",
    "for i in range(1, 21):\n",
    "    header += f' mfcc{i}'\n",
    "header += ' class'\n",
    "header = header.split()\n",
    "#Создаем csv файл для записи\n",
    "file = open('dataset.csv', 'w', newline='')\n",
    "#Записываем заголовок в файл\n",
    "with file:\n",
    "    writer = csv.writer(file)\n",
    "    writer.writerow(header)\n",
    "#Пробегаем по всем папкам от 1 до 5 - классам аудиозаписям\n",
    "for cl in range(1,6):\n",
    "    #Для всех аудиозаписей в текущей папке\n",
    "    for filename in os.listdir(f'./Data/{cl}'):\n",
    "        songname = f'./Data/{cl}/{filename}'\n",
    "        #Загружаем данные файла waw\n",
    "        y, sr = librosa.load(songname)\n",
    "        #Вычисляем среднеквадратичную ошибку трансформации\n",
    "        rmse = librosa.feature.rms(y=y)[0]\n",
    "        #вычисляем цветность - высоту тона\n",
    "        chroma_stft = librosa.feature.chroma_stft(y=y, sr=sr)\n",
    "        #вычисляем спектральный центроид - где расположен \"центр масс\" звука\n",
    "        spec_cent = librosa.feature.spectral_centroid(y=y, sr=sr)\n",
    "        #спектральная ширина\n",
    "        spec_bw = librosa.feature.spectral_bandwidth(y=y, sr=sr)\n",
    "        #частоты спектрального спада\n",
    "        rolloff = librosa.feature.spectral_rolloff(y=y, sr=sr)\n",
    "        #число пересечений нуля\n",
    "        zcr = librosa.feature.zero_crossing_rate(y)\n",
    "        #Мел-частотные кепстральные коэффициенты\n",
    "        mfcc = librosa.feature.mfcc(y=y, sr=sr)\n",
    "        #записываем средние значения характеристик\n",
    "        to_append = f'{np.mean(chroma_stft)} {np.mean(rmse)} {np.mean(spec_cent)} {np.mean(spec_bw)} {np.mean(rolloff)} {np.mean(zcr)}'    \n",
    "        for e in mfcc:\n",
    "            to_append += f' {np.mean(e)}'\n",
    "        to_append += f' {cl}'\n",
    "        file = open('dataset.csv', 'a', newline='')\n",
    "        with file:\n",
    "            writer = csv.writer(file)\n",
    "            writer.writerow(to_append.split())"
   ]
  },
  {
   "cell_type": "code",
   "execution_count": null,
   "metadata": {},
   "outputs": [],
   "source": []
  }
 ]
}